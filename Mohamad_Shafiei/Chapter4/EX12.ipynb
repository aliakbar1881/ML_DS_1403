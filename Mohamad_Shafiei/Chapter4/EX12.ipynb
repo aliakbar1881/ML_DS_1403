{
 "cells": [
  {
   "cell_type": "code",
   "execution_count": 23,
   "metadata": {},
   "outputs": [],
   "source": [
    "import numpy as np\n"
   ]
  },
  {
   "cell_type": "code",
   "execution_count": 24,
   "metadata": {},
   "outputs": [],
   "source": [
    "def softmax(scores):\n",
    "    exp_scores = np.exp(scores - np.max(scores, axis=1, keepdims=True))\n",
    "    return exp_scores / np.sum(exp_scores, axis=1, keepdims=True)"
   ]
  },
  {
   "cell_type": "code",
   "execution_count": 25,
   "metadata": {},
   "outputs": [],
   "source": [
    "def compute_loss(y_true, y_pred):\n",
    "    n_samples = y_true.shape[0]\n",
    "    loss = -np.sum(y_true * np.log(y_pred + 1e-15)) / n_samples\n",
    "    return loss"
   ]
  },
  {
   "cell_type": "code",
   "execution_count": 26,
   "metadata": {},
   "outputs": [],
   "source": [
    "def one_hot_encode(y, num_classes):\n",
    "    one_hot = np.zeros((y.size, num_classes))\n",
    "    one_hot[np.arange(y.size), y] = 1\n",
    "    return one_hot"
   ]
  },
  {
   "cell_type": "code",
   "execution_count": 27,
   "metadata": {},
   "outputs": [],
   "source": [
    "def batch_GD_softmax(X, y, num_classes, learning_rate=0.01, max_epochs=1000):    \n",
    "    n_samples, n_features = X.shape\n",
    "    theta = np.random.randn(n_features, num_classes) * 0.01\n",
    "\n",
    "    y_one_hot = one_hot_encode(y, num_classes)\n",
    "\n",
    "    train_ratio = 0.8\n",
    "    n_train = int(train_ratio * n_samples)\n",
    "    X_train, X_val = X[:n_train], X[n_train:]\n",
    "    y_train, y_val = y_one_hot[:n_train], y_one_hot[n_train:]\n",
    "\n",
    "    training_losses = []\n",
    "    validation_losses = []\n",
    "\n",
    "    minimum_val_error = float('inf')\n",
    "    best_epoch = None\n",
    "    best_theta = None\n",
    "\n",
    "    for epoch in range(max_epochs):\n",
    "        scores = np.dot(X_train, theta)\n",
    "        y_pred = softmax(scores)\n",
    "\n",
    "        train_loss = compute_loss(y_train, y_pred)\n",
    "        training_losses.append(train_loss)\n",
    "\n",
    "        val_scores = np.dot(X_val, theta)\n",
    "        y_val_pred = softmax(val_scores)\n",
    "        val_loss = compute_loss(y_val, y_val_pred)\n",
    "        validation_losses.append(val_loss)\n",
    "\n",
    "        if val_loss < minimum_val_error:\n",
    "            minimum_val_error = val_loss\n",
    "            best_epoch = epoch\n",
    "            best_theta = theta.copy()\n",
    "\n",
    "        gradient = np.dot(X_train.T, (y_pred - y_train)) / n_train\n",
    "\n",
    "        theta -= learning_rate * gradient\n",
    "\n",
    "\n",
    "    return best_theta, best_epoch, minimum_val_error, training_losses, validation_losses"
   ]
  },
  {
   "cell_type": "code",
   "execution_count": 28,
   "metadata": {},
   "outputs": [],
   "source": [
    "def main () :\n",
    "    # Example :\n",
    "    np.random.seed(42)\n",
    "    X = np.random.randn(500, 5)  # 500 samples, 5 features\n",
    "    y = np.random.randint(0, 3, 500)  # 3 classes\n",
    "\n",
    "    num_classes = 3\n",
    "    learning_rate = 0.1\n",
    "    max_epochs = 10000\n",
    "\n",
    "    best_theta, best_epoch, min_val_error, training_losses, validation_losses = batch_GD_softmax(X, y, num_classes, learning_rate, max_epochs)\n",
    "\n",
    "    print(\"Best epoch:\", best_epoch)\n",
    "    print(\"Minimum validation error:\", min_val_error)\n",
    "    print(\"Best model parameters (theta):\")\n",
    "    print(best_theta)"
   ]
  },
  {
   "cell_type": "code",
   "execution_count": 29,
   "metadata": {},
   "outputs": [
    {
     "name": "stdout",
     "output_type": "stream",
     "text": [
      "Best epoch: 1176\n",
      "Minimum validation error: 1.0922675360469773\n",
      "Best model parameters (theta):\n",
      "[[-0.00349244  0.10028011 -0.1061367 ]\n",
      " [ 0.06081777 -0.00417335 -0.06969195]\n",
      " [-0.10013998  0.04980121  0.06799869]\n",
      " [ 0.01186224  0.02900514 -0.05324665]\n",
      " [-0.0359313   0.00248115  0.03860303]]\n"
     ]
    }
   ],
   "source": [
    "main()"
   ]
  },
  {
   "cell_type": "code",
   "execution_count": null,
   "metadata": {},
   "outputs": [],
   "source": []
  }
 ],
 "metadata": {
  "kernelspec": {
   "display_name": "usr",
   "language": "python",
   "name": "python3"
  },
  "language_info": {
   "codemirror_mode": {
    "name": "ipython",
    "version": 3
   },
   "file_extension": ".py",
   "mimetype": "text/x-python",
   "name": "python",
   "nbconvert_exporter": "python",
   "pygments_lexer": "ipython3",
   "version": "3.12.7"
  }
 },
 "nbformat": 4,
 "nbformat_minor": 2
}
